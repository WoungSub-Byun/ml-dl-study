{
 "cells": [
  {
   "cell_type": "markdown",
   "id": "portable-stick",
   "metadata": {},
   "source": [
    "# 데이터 분석 소개\n",
    "데이터 분석이란 어떤 데이터가 주어졌을 때\n",
    "- 데이터 간의 관계를 파악하거나\n",
    "- 파악된 관계를 사용하여 우리가 원하는 새로운 (출력) 데ㅣ털를 만들어내는 과정\n",
    "\n",
    "목적에 따라\n",
    "- 예측 (prediction)\n",
    "- 클러스터링 (clustering)\n",
    "- 모사 (approximation)\n",
    "\n",
    "등 다양하게 나눌 수 있다."
   ]
  },
  {
   "cell_type": "markdown",
   "id": "editorial-gateway",
   "metadata": {},
   "source": [
    "## 예측 - prediction\n",
    "\n",
    "예측은 여러가지 입력 데이터를 주면 분석결과로 다른 데이터를 출력하는 분석 방법이다.\n",
    "예를 들면\n",
    "- 부동산의 위치, 주거환경, 건축연도 등을 주면 해당 부동산의 가치를 추정한다.\n",
    "- - 꽃잎의 길이와 너비 등 식물의 외형적 특징을 주면 해당하는 식물의 종을 알아낸다.\n",
    "- 얼굴 사진을 주면 해당하는 사람의 이름을 출력한다.\n",
    "- 현재 바둑돌의 위치들을 주면 다음 바둑돌의 위치를 지정한다.\n",
    "\n",
    "*데이터분석의 예측은 시간상 미래의 의미는 포함하지 않는다.*\n",
    "\n",
    "시계열 분석에서는 미래의 데이터를 예측하는경우가 있지만 이때는 *미래예측(forecasting)*이라는 용어를 사용한다."
   ]
  },
  {
   "cell_type": "markdown",
   "id": "intense-sydney",
   "metadata": {},
   "source": [
    "### 입력데이터와 출력데이터\n",
    "입력 데이터는 흔히 알파벳 **X**로 표기한다.\n",
    "\n",
    "다른 말로는 \n",
    "- 독립변수(independent variable)\n",
    "- 특징(feature)\n",
    "- 설명변수(explanatory variable)\n",
    "\n",
    "등의 용어를 쓰기도 한다.\n",
    "\n",
    "출력 데이터는 알파벳 **Y**로 표기하며\n",
    "\n",
    "- 종속변수(dependent variable)\n",
    "\n",
    "라고 부른다.\n",
    "\n",
    "종속변수가 뒤에서 설명할 카테고리값이면 라벨 또는 클래스 라고 하기도 한다.\n",
    "\n",
    "입력 데이터와 출력 데이터를 정확히 파악하는것이 중요한데, 이는 예측 성능에 의존되기 때문에 이는 가장 중요한 부분이 될 수 있다."
   ]
  },
  {
   "cell_type": "markdown",
   "id": "outstanding-quality",
   "metadata": {},
   "source": [
    "### 규칙기반 방법 / 학습기반 방법\n",
    "\n",
    "에측 문제를 풀기위한 방법에는 크게 규칙기반 방법, 학습기반 방법(데이터기반 방법)이 사용된다. \n",
    "\n",
    "#### 규칙기반 (rule-based)\n",
    "어떤 입력이 들어오면 어떤 출력이 나오는지를 결정하는 규칙이나 알고리즘을 사람이 미리 만들어 놓는 방법\n",
    "\n",
    "#### 학습기반 (training-based)\n",
    "규칙 기반과 다르게 대량의 데이터를 컴퓨터에 보여줌으로써 스스로 규칙을 만들게 하는 방법"
   ]
  }
 ],
 "metadata": {
  "kernelspec": {
   "display_name": "Python 3",
   "language": "python",
   "name": "python3"
  },
  "language_info": {
   "codemirror_mode": {
    "name": "ipython",
    "version": 3
   },
   "file_extension": ".py",
   "mimetype": "text/x-python",
   "name": "python",
   "nbconvert_exporter": "python",
   "pygments_lexer": "ipython3",
   "version": "3.8.6"
  }
 },
 "nbformat": 4,
 "nbformat_minor": 5
}
