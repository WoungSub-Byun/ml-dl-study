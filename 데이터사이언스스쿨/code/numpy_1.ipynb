{
 "cells": [
  {
   "cell_type": "markdown",
   "id": "beneficial-friendship",
   "metadata": {},
   "source": [
    "# Numpy\n",
    "> 데이터분석에서 데이터 관련 작업을 한다면 무조건 사용하는 numpy에 대해서 알아보겠습니다.\n",
    "\n",
    "> - 배열 vs 리스트\n",
    "> - 배열 다루기\n",
    "> - numpy 사용법\n",
    "> - 난수 발생"
   ]
  },
  {
   "cell_type": "markdown",
   "id": "tight-alarm",
   "metadata": {},
   "source": [
    "## Numpy 배열\n",
    "파이썬에서는 자체적으로 배열 자료형을 제공하지 않습니다. 그 대신 리스트 자료형을 제공하여 자유자래로 사용할 수 있습니다.\n",
    "\n",
    "- 배열 vs 리스트\n",
    "| 리스트 | 배열 |\n",
    "| --- | --- |\n",
    "| 원소들의 자료형이 다양함 | 모든 원소가 같은 자료형이어야 한다 |\n",
    "| 원소의 갯수 변화가 자유롭다 | 원소의 갯수를 바꿀 수 없다 |\n",
    "| 속도가 느리고 메모리를 많이 차지한다 | 적은 메모리로 많은 데이터를 빠르게 처리할 수 있다 |"
   ]
  },
  {
   "cell_type": "markdown",
   "id": "divided-coverage",
   "metadata": {},
   "source": [
    " 파이썬에서 배열 자료형을 사용하기 위해서는 다른 패키지를 임포트해야합니다.\n",
    " 가장 많이 사용하는 패키지가 바로 넘파이(Numpy)입니다.\n",
    " \n",
    " 수치해석용 라이브러리인 넘파이는 다차원 배열 자료구조 클래스인 ```ndarray```지원합니다.\n",
    " 또한 벡터와 행렬을 사용하는 선형대수 계산에 주로 사용됩니다.\n",
    " \n",
    " 넘파이의 배열 연산은 C로 구현된 내부 반복문을 사용하기 때문에 일반적인 파이썬 반복문에 비해 속도가 빠르며 벡터화 연산(vectorized operation)을 이용하여 간단한 코드로도 복잡한 선형 대수 연산을 수행할 수 있습니다. 또한 배열 인덱싱을 사용한 질의를 이용하여 간단한 코드로도 복잡한 수식을 계산할 수 있습니다."
   ]
  },
  {
   "cell_type": "code",
   "execution_count": 2,
   "id": "electrical-diploma",
   "metadata": {},
   "outputs": [],
   "source": [
    "import numpy as np"
   ]
  },
  {
   "cell_type": "code",
   "execution_count": 3,
   "id": "fourth-ensemble",
   "metadata": {},
   "outputs": [
    {
     "data": {
      "text/plain": [
       "array([0, 1, 2, 3, 4, 5, 6, 7, 8, 9])"
      ]
     },
     "execution_count": 3,
     "metadata": {},
     "output_type": "execute_result"
    }
   ],
   "source": [
    "# 1차원 배열 만들기\n",
    "ar = np.array([0,1,2,3,4,5,6,7,8,9])\n",
    "ar"
   ]
  },
  {
   "cell_type": "code",
   "execution_count": 4,
   "id": "united-application",
   "metadata": {},
   "outputs": [
    {
     "data": {
      "text/plain": [
       "numpy.ndarray"
      ]
     },
     "execution_count": 4,
     "metadata": {},
     "output_type": "execute_result"
    }
   ],
   "source": [
    "type(ar)"
   ]
  },
  {
   "cell_type": "markdown",
   "id": "diverse-passenger",
   "metadata": {},
   "source": [
    "```ndarray``` 객체는 C언어의 배열처럼 연속적인 메모리 배치를 가지기 때문에 모든 원소가 같은 자료형이어야합니다.\n",
    "\n",
    "제한사항이 있지만 원소에 대한 접근과 반복문 실행이 빨라집니다."
   ]
  },
  {
   "cell_type": "markdown",
   "id": "recent-england",
   "metadata": {},
   "source": [
    "### Vectorized Operation\n",
    "배열 객체는 배열의 각 원소에 대한 반복 연산을 하나의 명령어로 처리하는 벡터화 연산(vectorized operation)을 지원합니다."
   ]
  },
  {
   "cell_type": "code",
   "execution_count": 5,
   "id": "several-seven",
   "metadata": {},
   "outputs": [],
   "source": [
    "data = [1,2,3,4,5,6,7,8,9]"
   ]
  },
  {
   "cell_type": "code",
   "execution_count": 8,
   "id": "guilty-deputy",
   "metadata": {},
   "outputs": [
    {
     "name": "stdout",
     "output_type": "stream",
     "text": [
      "[2, 4, 6, 8, 10, 12, 14, 16, 18]\n",
      "[2, 4, 6, 8, 10, 12, 14, 16, 18]\n"
     ]
    }
   ],
   "source": [
    "answer = []\n",
    "for di in data:\n",
    "    answer.append(2*di)\n",
    "print(answer)\n",
    "# 혹은\n",
    "answer2 = [2*di for di in data]\n",
    "print(answer2)"
   ]
  },
  {
   "cell_type": "code",
   "execution_count": 9,
   "id": "tested-august",
   "metadata": {},
   "outputs": [
    {
     "data": {
      "text/plain": [
       "array([ 2,  4,  6,  8, 10, 12, 14, 16, 18])"
      ]
     },
     "execution_count": 9,
     "metadata": {},
     "output_type": "execute_result"
    }
   ],
   "source": [
    "#하지만 벡터화 연산에서는\n",
    "x = np.array(data)\n",
    "2 * x\n"
   ]
  },
  {
   "cell_type": "code",
   "execution_count": 10,
   "id": "unnecessary-basic",
   "metadata": {},
   "outputs": [
    {
     "data": {
      "text/plain": [
       "array([11, 22, 33])"
      ]
     },
     "execution_count": 10,
     "metadata": {},
     "output_type": "execute_result"
    }
   ],
   "source": [
    "# 덧셈\n",
    "a = np.array([1,2,3])\n",
    "b = np.array([10,20,30])\n",
    "a + b"
   ]
  },
  {
   "cell_type": "markdown",
   "id": "practical-bridal",
   "metadata": {},
   "source": [
    "각 인덱스의 원소끼리 행렬 연산이 됩니다."
   ]
  },
  {
   "cell_type": "code",
   "execution_count": 11,
   "id": "weird-jones",
   "metadata": {},
   "outputs": [
    {
     "data": {
      "text/plain": [
       "array([False,  True, False])"
      ]
     },
     "execution_count": 11,
     "metadata": {},
     "output_type": "execute_result"
    }
   ],
   "source": [
    "a == 2"
   ]
  },
  {
   "cell_type": "code",
   "execution_count": 12,
   "id": "intelligent-kinase",
   "metadata": {},
   "outputs": [
    {
     "data": {
      "text/plain": [
       "array([False,  True,  True])"
      ]
     },
     "execution_count": 12,
     "metadata": {},
     "output_type": "execute_result"
    }
   ],
   "source": [
    "b > 10"
   ]
  },
  {
   "cell_type": "code",
   "execution_count": 13,
   "id": "disabled-seventh",
   "metadata": {},
   "outputs": [
    {
     "data": {
      "text/plain": [
       "array([False,  True, False])"
      ]
     },
     "execution_count": 13,
     "metadata": {},
     "output_type": "execute_result"
    }
   ],
   "source": [
    "(a == 2) & (b> 10)"
   ]
  },
  {
   "cell_type": "markdown",
   "id": "arabic-communications",
   "metadata": {},
   "source": [
    "### 2차원 배열\n",
    "```ndarray``` : ```N-dimensional Array```\n",
    "\n",
    "```ndarray``` 는 다차원배열 자료구조를 지원합니다.\n",
    "\n",
    "- 2차원 배열 : 행렬(matrix)\n",
    "    - 행(row): 가로줄\n",
    "    - 열(column) : 세로줄\n"
   ]
  },
  {
   "cell_type": "code",
   "execution_count": 14,
   "id": "economic-damages",
   "metadata": {},
   "outputs": [
    {
     "data": {
      "text/plain": [
       "array([[0, 1, 2],\n",
       "       [3, 4, 5]])"
      ]
     },
     "execution_count": 14,
     "metadata": {},
     "output_type": "execute_result"
    }
   ],
   "source": [
    "c = np.array([[0,1,2],[3,4,5]])\n",
    "c"
   ]
  },
  {
   "cell_type": "code",
   "execution_count": 16,
   "id": "reasonable-youth",
   "metadata": {},
   "outputs": [
    {
     "data": {
      "text/plain": [
       "2"
      ]
     },
     "execution_count": 16,
     "metadata": {},
     "output_type": "execute_result"
    }
   ],
   "source": [
    "#행의 개수\n",
    "len(c)"
   ]
  },
  {
   "cell_type": "code",
   "execution_count": 17,
   "id": "frank-swiss",
   "metadata": {},
   "outputs": [
    {
     "data": {
      "text/plain": [
       "3"
      ]
     },
     "execution_count": 17,
     "metadata": {},
     "output_type": "execute_result"
    }
   ],
   "source": [
    "#열의 개수\n",
    "len(c[0])"
   ]
  },
  {
   "cell_type": "code",
   "execution_count": 18,
   "id": "according-gregory",
   "metadata": {},
   "outputs": [
    {
     "data": {
      "text/plain": [
       "array([[10, 20, 30, 40],\n",
       "       [50, 60, 70, 80]])"
      ]
     },
     "execution_count": 18,
     "metadata": {},
     "output_type": "execute_result"
    }
   ],
   "source": [
    "# 연습문제\n",
    "q1 = np.array([[10,20,30,40],[50,60,70,80]])\n",
    "q1"
   ]
  },
  {
   "cell_type": "markdown",
   "id": "union-necessity",
   "metadata": {},
   "source": [
    "### 3차원 배열\n",
    "3차원 배열은 가장 바깥쪽 리스트의 길이부터 가장 안쪽 리스트 길이의 순서로 표시합니다.\n",
    "\n",
    "2x3x4 "
   ]
  },
  {
   "cell_type": "code",
   "execution_count": 20,
   "id": "available-drill",
   "metadata": {},
   "outputs": [
    {
     "name": "stderr",
     "output_type": "stream",
     "text": [
      "<ipython-input-20-a0518d38e265>:1: VisibleDeprecationWarning: Creating an ndarray from ragged nested sequences (which is a list-or-tuple of lists-or-tuples-or ndarrays with different lengths or shapes) is deprecated. If you meant to do this, you must specify 'dtype=object' when creating the ndarray.\n",
      "  d = np.array([[[1,2,3,4],\n"
     ]
    },
    {
     "data": {
      "text/plain": [
       "array([list([[1, 2, 3, 4], [5, 6, 7, 8], [9, 10, 11, 12]]),\n",
       "       list([1, 2, 3, 4]), list([5, 6, 7, 8]), list([1, 2, 3, 4])],\n",
       "      dtype=object)"
      ]
     },
     "execution_count": 20,
     "metadata": {},
     "output_type": "execute_result"
    }
   ],
   "source": [
    "d = np.array([[[1,2,3,4],\n",
    "              [5,6,7,8],\n",
    "             [9,10,11,12]],\n",
    "             [1,2,3,4],\n",
    "             [5,6,7,8],\n",
    "             [1,2,3,4]])\n",
    "d"
   ]
  },
  {
   "cell_type": "markdown",
   "id": "downtown-concord",
   "metadata": {},
   "source": [
    "### 배열의 차원과 크기 알아내기\n",
    "- ```ndim``` : 배열의 차원\n",
    "- ```shape``` : 배열의 크기"
   ]
  },
  {
   "cell_type": "code",
   "execution_count": 21,
   "id": "expired-soviet",
   "metadata": {},
   "outputs": [
    {
     "name": "stdout",
     "output_type": "stream",
     "text": [
      "1\n",
      "(3,)\n"
     ]
    }
   ],
   "source": [
    "a = np.array([1,2,3])\n",
    "print(a.ndim)\n",
    "print(a.shape)"
   ]
  },
  {
   "cell_type": "code",
   "execution_count": 22,
   "id": "bibliographic-circumstances",
   "metadata": {},
   "outputs": [
    {
     "name": "stdout",
     "output_type": "stream",
     "text": [
      "2\n",
      "(2, 3)\n"
     ]
    }
   ],
   "source": [
    "c = np.array([[0,1,2],[3,4,5]])\n",
    "print(c.ndim)\n",
    "print(c.shape)"
   ]
  },
  {
   "cell_type": "markdown",
   "id": "final-province",
   "metadata": {},
   "source": [
    "### 배열의 인덱싱\n",
    "1차원 배열의 인덱싱은 리스트의 인덱싱과 같은 방식입니다."
   ]
  },
  {
   "cell_type": "code",
   "execution_count": 25,
   "id": "private-illustration",
   "metadata": {},
   "outputs": [
    {
     "name": "stdout",
     "output_type": "stream",
     "text": [
      "2\n",
      "[3 4]\n"
     ]
    }
   ],
   "source": [
    "a = np.array([0,1,2,3,4])\n",
    "print(a[2])\n",
    "print(a[3:5])"
   ]
  },
  {
   "cell_type": "markdown",
   "id": "verbal-survey",
   "metadata": {},
   "source": [
    "다차원 배열일 때는 다음과 같이 ,를 사용하여 접근할 수 있습니다.\n",
    "\n",
    "콤마로 구분된 차원을 축(axis)라고도 합니다. 그래프의 x축과 y축을 떠올리면 됩니다."
   ]
  },
  {
   "cell_type": "code",
   "execution_count": 27,
   "id": "hearing-craft",
   "metadata": {},
   "outputs": [
    {
     "data": {
      "text/plain": [
       "array([[0, 1, 2],\n",
       "       [3, 4, 5]])"
      ]
     },
     "execution_count": 27,
     "metadata": {},
     "output_type": "execute_result"
    }
   ],
   "source": [
    "a = np.array([[0,1,2],[3,4,5]])\n",
    "a"
   ]
  },
  {
   "cell_type": "code",
   "execution_count": 28,
   "id": "perfect-water",
   "metadata": {},
   "outputs": [
    {
     "data": {
      "text/plain": [
       "0"
      ]
     },
     "execution_count": 28,
     "metadata": {},
     "output_type": "execute_result"
    }
   ],
   "source": [
    "a[0,0]"
   ]
  },
  {
   "cell_type": "code",
   "execution_count": 29,
   "id": "textile-pepper",
   "metadata": {},
   "outputs": [
    {
     "data": {
      "text/plain": [
       "1"
      ]
     },
     "execution_count": 29,
     "metadata": {},
     "output_type": "execute_result"
    }
   ],
   "source": [
    "a[0,1]"
   ]
  },
  {
   "cell_type": "code",
   "execution_count": 30,
   "id": "cultural-hopkins",
   "metadata": {},
   "outputs": [
    {
     "data": {
      "text/plain": [
       "5"
      ]
     },
     "execution_count": 30,
     "metadata": {},
     "output_type": "execute_result"
    }
   ],
   "source": [
    "a[1,2]"
   ]
  },
  {
   "cell_type": "code",
   "execution_count": 31,
   "id": "raised-armstrong",
   "metadata": {},
   "outputs": [
    {
     "data": {
      "text/plain": [
       "5"
      ]
     },
     "execution_count": 31,
     "metadata": {},
     "output_type": "execute_result"
    }
   ],
   "source": [
    "a[-1,-1]"
   ]
  },
  {
   "cell_type": "markdown",
   "id": "thick-minute",
   "metadata": {},
   "source": [
    "### 배열 슬라이싱\n",
    "배열의 원소 중 복수개를 접근하려면 일반적인 파이썬 슬라이싱과 콤마를 함께 사용하면 됩니다.\n"
   ]
  },
  {
   "cell_type": "code",
   "execution_count": 32,
   "id": "molecular-charger",
   "metadata": {},
   "outputs": [
    {
     "data": {
      "text/plain": [
       "array([[0, 1, 2, 3],\n",
       "       [4, 5, 6, 7]])"
      ]
     },
     "execution_count": 32,
     "metadata": {},
     "output_type": "execute_result"
    }
   ],
   "source": [
    "a = np.array([[0,1,2,3],[4,5,6,7]])\n",
    "a"
   ]
  },
  {
   "cell_type": "code",
   "execution_count": 33,
   "id": "conscious-monkey",
   "metadata": {},
   "outputs": [
    {
     "data": {
      "text/plain": [
       "array([0, 1, 2, 3])"
      ]
     },
     "execution_count": 33,
     "metadata": {},
     "output_type": "execute_result"
    }
   ],
   "source": [
    "a[0,:]"
   ]
  },
  {
   "cell_type": "code",
   "execution_count": 34,
   "id": "ranking-climate",
   "metadata": {},
   "outputs": [
    {
     "data": {
      "text/plain": [
       "array([1, 5])"
      ]
     },
     "execution_count": 34,
     "metadata": {},
     "output_type": "execute_result"
    }
   ],
   "source": [
    "a[:,1]"
   ]
  },
  {
   "cell_type": "code",
   "execution_count": 35,
   "id": "scheduled-dialogue",
   "metadata": {},
   "outputs": [
    {
     "data": {
      "text/plain": [
       "array([5, 6, 7])"
      ]
     },
     "execution_count": 35,
     "metadata": {},
     "output_type": "execute_result"
    }
   ],
   "source": [
    "a[1,1:]"
   ]
  },
  {
   "cell_type": "code",
   "execution_count": 36,
   "id": "renewable-lawrence",
   "metadata": {},
   "outputs": [
    {
     "data": {
      "text/plain": [
       "array([[0, 1],\n",
       "       [4, 5]])"
      ]
     },
     "execution_count": 36,
     "metadata": {},
     "output_type": "execute_result"
    }
   ],
   "source": [
    "a[:2,:2]"
   ]
  },
  {
   "cell_type": "markdown",
   "id": "peaceful-street",
   "metadata": {},
   "source": [
    "### 배열 인덱싱\n",
    "> **Fancy indexing**\n",
    ": numpy 배열의 특징 중 하나인 fancy indexing은 인덱싱이라는 이름이 붙었지만 사실은 데이터베이스의 질의 기능을 수행합니다. 배열 인덱싱에서는 대괄호 안의 인덱스 정보로 숫자나 슬라이스가 아니라 위치 정보를 나타내는 또 다른 ```ndarray```를 받을 수 있습니다.\n",
    "- 방식\n",
    "    - Boolean 배열\n",
    "    - 정수 배열"
   ]
  },
  {
   "cell_type": "markdown",
   "id": "acute-validation",
   "metadata": {},
   "source": [
    "##### Boolean 배열 인덱싱\n",
    "인덱스 배열의 원소가 True, False 두 값으로만 구성되며 인덱스 배열의 크기가 원래 ndarray 객체의 크기와 같아야 합니다."
   ]
  },
  {
   "cell_type": "code",
   "execution_count": 39,
   "id": "superior-shark",
   "metadata": {},
   "outputs": [
    {
     "data": {
      "text/plain": [
       "array([1, 3, 5, 7])"
      ]
     },
     "execution_count": 39,
     "metadata": {},
     "output_type": "execute_result"
    }
   ],
   "source": [
    "a = np.array([1,2,3,4,5,6,7])\n",
    "idx = np.array([True, False, True, False, True, False, True])\n",
    "a[idx]\n",
    "\n",
    "# True에 해당하는 인덱스의 값만 인덱싱된다"
   ]
  },
  {
   "cell_type": "code",
   "execution_count": 40,
   "id": "nasty-struggle",
   "metadata": {},
   "outputs": [
    {
     "data": {
      "text/plain": [
       "array([1, 0, 1, 0, 1, 0, 1])"
      ]
     },
     "execution_count": 40,
     "metadata": {},
     "output_type": "execute_result"
    }
   ],
   "source": [
    "a % 2"
   ]
  },
  {
   "cell_type": "code",
   "execution_count": 41,
   "id": "strong-awareness",
   "metadata": {},
   "outputs": [
    {
     "data": {
      "text/plain": [
       "array([False,  True, False,  True, False,  True, False])"
      ]
     },
     "execution_count": 41,
     "metadata": {},
     "output_type": "execute_result"
    }
   ],
   "source": [
    "a % 2 == 0"
   ]
  },
  {
   "cell_type": "code",
   "execution_count": 42,
   "id": "still-correlation",
   "metadata": {},
   "outputs": [
    {
     "data": {
      "text/plain": [
       "array([2, 4, 6])"
      ]
     },
     "execution_count": 42,
     "metadata": {},
     "output_type": "execute_result"
    }
   ],
   "source": [
    "a[a%2==0]"
   ]
  },
  {
   "cell_type": "markdown",
   "id": "everyday-procurement",
   "metadata": {},
   "source": [
    "##### 정수 배열 인덱싱\n",
    "인덱스 배열의 원소 각각이 원래 ```ndarray```객체 원소 하나를 가리키는 인덱스 정수여야한다."
   ]
  },
  {
   "cell_type": "code",
   "execution_count": 43,
   "id": "middle-insertion",
   "metadata": {},
   "outputs": [
    {
     "data": {
      "text/plain": [
       "array([1, 3, 5, 7])"
      ]
     },
     "execution_count": 43,
     "metadata": {},
     "output_type": "execute_result"
    }
   ],
   "source": [
    "a = np.array([1,2,3,4,5,6,7,8])\n",
    "idx = np.array([0,2,4,6])\n",
    "a[idx]"
   ]
  },
  {
   "cell_type": "markdown",
   "id": "gentle-collector",
   "metadata": {},
   "source": [
    "Boolean 배열 인덱싱과 다른점은 배열 인덱스의 크기가 원래의 배열 크기와 달라도 상관없다는 점입니다. 같은 원소를 반복해서 가리키는 경우에는 배열 인덱스가 원래의 배열보다 더 커지기도 합니다."
   ]
  },
  {
   "cell_type": "code",
   "execution_count": 45,
   "id": "strange-burlington",
   "metadata": {},
   "outputs": [
    {
     "data": {
      "text/plain": [
       "array([1, 1, 1, 1, 2, 2, 2, 2, 2, 2, 3, 4, 5])"
      ]
     },
     "execution_count": 45,
     "metadata": {},
     "output_type": "execute_result"
    }
   ],
   "source": [
    "a = np.array([1,2,3,4,5,6,7,8,9])\n",
    "idx = np.array([0,0,0,0,1,1,1,1,1,1,2,3,4])\n",
    "a[idx]"
   ]
  },
  {
   "cell_type": "code",
   "execution_count": 46,
   "id": "enclosed-ribbon",
   "metadata": {},
   "outputs": [
    {
     "data": {
      "text/plain": [
       "array([[1, 2, 3, 4],\n",
       "       [5, 6, 7, 8]])"
      ]
     },
     "execution_count": 46,
     "metadata": {},
     "output_type": "execute_result"
    }
   ],
   "source": [
    "# 다차원 배열에서도 가능\n",
    "a = np.array([[1,2,3,4],[5,6,7,8]])\n",
    "a"
   ]
  },
  {
   "cell_type": "code",
   "execution_count": 47,
   "id": "ongoing-lexington",
   "metadata": {},
   "outputs": [
    {
     "data": {
      "text/plain": [
       "array([[1, 4],\n",
       "       [5, 8]])"
      ]
     },
     "execution_count": 47,
     "metadata": {},
     "output_type": "execute_result"
    }
   ],
   "source": [
    "a[:,[True, False, False, True]]"
   ]
  }
 ],
 "metadata": {
  "kernelspec": {
   "display_name": "Python 3",
   "language": "python",
   "name": "python3"
  },
  "language_info": {
   "codemirror_mode": {
    "name": "ipython",
    "version": 3
   },
   "file_extension": ".py",
   "mimetype": "text/x-python",
   "name": "python",
   "nbconvert_exporter": "python",
   "pygments_lexer": "ipython3",
   "version": "3.8.6"
  }
 },
 "nbformat": 4,
 "nbformat_minor": 5
}
